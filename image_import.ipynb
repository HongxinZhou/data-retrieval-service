{
 "cells": [
  {
   "cell_type": "code",
   "execution_count": 5,
   "metadata": {},
   "outputs": [
    {
     "name": "stdout",
     "output_type": "stream",
     "text": [
      "Collecting psycopg2-binary\n",
      "  Downloading psycopg2_binary-2.9.7-cp39-cp39-macosx_10_9_x86_64.whl (2.8 MB)\n",
      "\u001b[K     |████████████████████████████████| 2.8 MB 6.5 MB/s eta 0:00:01\n",
      "\u001b[?25hInstalling collected packages: psycopg2-binary\n",
      "Successfully installed psycopg2-binary-2.9.7\n",
      "Note: you may need to restart the kernel to use updated packages.\n"
     ]
    }
   ],
   "source": [
    "# %pip install psycopg2-binary\n",
    "import psycopg2\n",
    "from psycopg2 import Binary\n",
    "import os"
   ]
  },
  {
   "cell_type": "code",
   "execution_count": 7,
   "metadata": {},
   "outputs": [],
   "source": [
    "conn = psycopg2.connect(database=\"postgres\", user=\"anton\", password=\"822681\", host=\"localhost\", port=\"5432\")\n",
    "\n",
    "cursor = conn.cursor()\n",
    "\n",
    "folder_path = \"/Users/anton/Desktop/crop_app_sample_data/lettuce/images/\"\n",
    "for filename in os.listdir(folder_path):\n",
    "    if filename.endswith(\".jpeg\"):  \n",
    "        with open(os.path.join(folder_path, filename), \"rb\") as photo_file:\n",
    "            photo_data = Binary(photo_file.read())\n",
    "            cursor.execute(\"INSERT INTO photos (image_name, photo_data) VALUES (%s, %s)\", (filename, photo_data))\n",
    "\n",
    "conn.commit()\n",
    "cursor.close()\n",
    "conn.close()"
   ]
  },
  {
   "cell_type": "code",
   "execution_count": 9,
   "metadata": {},
   "outputs": [],
   "source": [
    "conn = psycopg2.connect(database=\"postgres\", user=\"anton\", password=\"822681\", host=\"localhost\", port=\"5432\")\n",
    "\n",
    "cursor = conn.cursor()\n",
    "\n",
    "folder_path = \"/Users/anton/Desktop/crop_app_sample_data/lettuce/images/\"\n",
    "for filename in os.listdir(folder_path):\n",
    "    if filename.endswith(\".jpeg\"):  \n",
    "        with open(os.path.join(folder_path, filename), \"rb\") as photo_file:\n",
    "            photo_data = folder_path+filename\n",
    "            cursor.execute(\"INSERT INTO photos1 (image_name, photo_data) VALUES (%s, %s)\", (filename, photo_data))\n",
    "\n",
    "conn.commit()\n",
    "cursor.close()\n",
    "conn.close()"
   ]
  }
 ],
 "metadata": {
  "kernelspec": {
   "display_name": "base",
   "language": "python",
   "name": "python3"
  },
  "language_info": {
   "codemirror_mode": {
    "name": "ipython",
    "version": 3
   },
   "file_extension": ".py",
   "mimetype": "text/x-python",
   "name": "python",
   "nbconvert_exporter": "python",
   "pygments_lexer": "ipython3",
   "version": "3.9.12"
  },
  "orig_nbformat": 4
 },
 "nbformat": 4,
 "nbformat_minor": 2
}
